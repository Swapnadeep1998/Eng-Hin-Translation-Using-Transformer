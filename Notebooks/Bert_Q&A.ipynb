{
  "nbformat": 4,
  "nbformat_minor": 0,
  "metadata": {
    "colab": {
      "name": "Bert_Q&A.ipynb",
      "provenance": [],
      "machine_shape": "hm"
    },
    "kernelspec": {
      "name": "python3",
      "display_name": "Python 3"
    },
    "language_info": {
      "name": "python"
    },
    "accelerator": "GPU"
  },
  "cells": [
    {
      "cell_type": "code",
      "metadata": {
        "colab": {
          "base_uri": "https://localhost:8080/"
        },
        "id": "weqMarP9Wvbd",
        "outputId": "12874cd6-ba66-403e-e5bc-1d189ea6b06e"
      },
      "source": [
        "cd /content/drive/MyDrive/MyProjects/Question_Answering/"
      ],
      "execution_count": null,
      "outputs": [
        {
          "output_type": "stream",
          "text": [
            "/content/drive/MyDrive/MyProjects/Question_Answering\n"
          ],
          "name": "stdout"
        }
      ]
    },
    {
      "cell_type": "code",
      "metadata": {
        "colab": {
          "base_uri": "https://localhost:8080/"
        },
        "id": "YB4Ei5TpKqKV",
        "outputId": "ad698bc2-29a0-405c-a747-4176de0dcd29"
      },
      "source": [
        "! nvidia-smi"
      ],
      "execution_count": null,
      "outputs": [
        {
          "output_type": "stream",
          "text": [
            "Wed Apr 28 09:30:54 2021       \n",
            "+-----------------------------------------------------------------------------+\n",
            "| NVIDIA-SMI 465.19.01    Driver Version: 460.32.03    CUDA Version: 11.2     |\n",
            "|-------------------------------+----------------------+----------------------+\n",
            "| GPU  Name        Persistence-M| Bus-Id        Disp.A | Volatile Uncorr. ECC |\n",
            "| Fan  Temp  Perf  Pwr:Usage/Cap|         Memory-Usage | GPU-Util  Compute M. |\n",
            "|                               |                      |               MIG M. |\n",
            "|===============================+======================+======================|\n",
            "|   0  Tesla P100-PCIE...  Off  | 00000000:00:04.0 Off |                    0 |\n",
            "| N/A   42C    P0    27W / 250W |      0MiB / 16280MiB |      0%      Default |\n",
            "|                               |                      |                  N/A |\n",
            "+-------------------------------+----------------------+----------------------+\n",
            "                                                                               \n",
            "+-----------------------------------------------------------------------------+\n",
            "| Processes:                                                                  |\n",
            "|  GPU   GI   CI        PID   Type   Process name                  GPU Memory |\n",
            "|        ID   ID                                                   Usage      |\n",
            "|=============================================================================|\n",
            "|  No running processes found                                                 |\n",
            "+-----------------------------------------------------------------------------+\n"
          ],
          "name": "stdout"
        }
      ]
    },
    {
      "cell_type": "code",
      "metadata": {
        "colab": {
          "base_uri": "https://localhost:8080/"
        },
        "id": "EAyGW9isWSL4",
        "outputId": "e5a1ac90-d93f-4dea-91da-db7813742c99"
      },
      "source": [
        "! pip install tokenizers"
      ],
      "execution_count": null,
      "outputs": [
        {
          "output_type": "stream",
          "text": [
            "Collecting tokenizers\n",
            "\u001b[?25l  Downloading https://files.pythonhosted.org/packages/ae/04/5b870f26a858552025a62f1649c20d29d2672c02ff3c3fb4c688ca46467a/tokenizers-0.10.2-cp37-cp37m-manylinux2010_x86_64.whl (3.3MB)\n",
            "\u001b[K     |████████████████████████████████| 3.3MB 5.1MB/s \n",
            "\u001b[?25hInstalling collected packages: tokenizers\n",
            "Successfully installed tokenizers-0.10.2\n"
          ],
          "name": "stdout"
        }
      ]
    },
    {
      "cell_type": "code",
      "metadata": {
        "id": "amIseIfAWsF4"
      },
      "source": [
        "import tensorflow as tf\n",
        "import numpy as np\n",
        "import json\n",
        "from tokenizers import BertWordPieceTokenizer\n",
        "import tensorflow_hub as hub"
      ],
      "execution_count": null,
      "outputs": []
    },
    {
      "cell_type": "markdown",
      "metadata": {
        "id": "Mz7_DWNPY_-z"
      },
      "source": [
        "## Loading The Bert Model From Tensorflow Hub"
      ]
    },
    {
      "cell_type": "code",
      "metadata": {
        "id": "1JLhYwavY_Ru"
      },
      "source": [
        "Bert_Layer = hub.KerasLayer(\"https://tfhub.dev/tensorflow/bert_en_uncased_L-12_H-768_A-12/2\",\n",
        "                            trainable=True)\n",
        "\n",
        "vocab_file = Bert_Layer.resolved_object.vocab_file.asset_path.numpy().decode(\"utf-8\")\n",
        "tokenizer = BertWordPieceTokenizer(vocab=vocab_file, lowercase=True)"
      ],
      "execution_count": null,
      "outputs": []
    },
    {
      "cell_type": "code",
      "metadata": {
        "colab": {
          "base_uri": "https://localhost:8080/"
        },
        "id": "G-do3OVN72Kp",
        "outputId": "285bf60b-7b92-48eb-dac1-4d063812c33c"
      },
      "source": [
        "tokenizer.encode(\"I love food\").tokens"
      ],
      "execution_count": null,
      "outputs": [
        {
          "output_type": "execute_result",
          "data": {
            "text/plain": [
              "['[CLS]', 'i', 'love', 'food', '[SEP]']"
            ]
          },
          "metadata": {
            "tags": []
          },
          "execution_count": 6
        }
      ]
    },
    {
      "cell_type": "markdown",
      "metadata": {
        "id": "g4TxAuEgX63w"
      },
      "source": [
        "## Preprocessing"
      ]
    },
    {
      "cell_type": "code",
      "metadata": {
        "id": "JHCKLLd4G-Mo"
      },
      "source": [
        "max_seq_len=384"
      ],
      "execution_count": null,
      "outputs": []
    },
    {
      "cell_type": "code",
      "metadata": {
        "id": "3-6Cii0aXQpm"
      },
      "source": [
        "class Sample:\n",
        "    def __init__(self, question, context,\n",
        "                 start_char_idx=None, answer_text=None, \n",
        "                 all_answers=None, Tokenizer=tokenizer):\n",
        "        self.question = question\n",
        "        self.context = context\n",
        "        self.start_char_idx = start_char_idx\n",
        "        self.answer_text = answer_text\n",
        "        self.all_answers = all_answers\n",
        "        self.skip = False\n",
        "        self.start_tok_idx = -1\n",
        "        self.end_tok_idx = -1\n",
        "        self.context_token_to_char = None\n",
        "\n",
        "        self.inputs = {}\n",
        "        self.targets = []\n",
        "\n",
        "    def preprocess(self):\n",
        "        context = \" \".join(str(self.context).split())\n",
        "        question = \" \".join(str(self.question).split())\n",
        "\n",
        "        tokenized_context = tokenizer.encode(context)\n",
        "        tokenized_question = tokenizer.encode(question)\n",
        "\n",
        "        if self.answer_text is not None:\n",
        "            answer = \" \".join(str(self.answer_text).split())\n",
        "            end_char_idx = self.start_char_idx + len(answer)\n",
        "\n",
        "            if end_char_idx > len(context):           # Might be >=\n",
        "                self.skip = True\n",
        "                return\n",
        "\n",
        "            is_char_in_index = [0]*len(context)\n",
        "            for idx in range(self.start_char_idx, end_char_idx):\n",
        "                is_char_in_index[idx] = 1\n",
        "\n",
        "            ans_token_idx = []\n",
        "            for idx,(start, end) in enumerate(tokenized_context.offsets):\n",
        "                if sum(is_char_in_index[start:end])>0:\n",
        "                    ans_token_idx.append(idx)\n",
        "            if len(ans_token_idx)==0:\n",
        "                self.skip=True\n",
        "                return\n",
        "            \n",
        "            self.start_tok_idx = ans_token_idx[0]\n",
        "            self.end_tok_idx = ans_token_idx[-1]\n",
        "\n",
        "        input_ids = tokenized_context.ids + tokenized_question.ids[1:]  # [CLS] context [SEP] Question [SEP]\n",
        "        token_type_ids = [0]*len(tokenized_context.ids) + [1]*len(tokenized_question.ids[1:])\n",
        "        attention_mask = [1]*len(input_ids)\n",
        "        padding_length = max_seq_len - len(input_ids)\n",
        "\n",
        "        if padding_length > 0:\n",
        "            input_ids = input_ids + ([0]*padding_length)\n",
        "            token_type_ids = token_type_ids + ([0]*padding_length)\n",
        "            attention_mask = attention_mask + ([0]*padding_length)\n",
        "        else:\n",
        "            self.skip = True\n",
        "            return \n",
        "        \n",
        "        self.inputs[\"input_ids\"]=input_ids\n",
        "        self.inputs[\"token_type_ids\"] = token_type_ids\n",
        "        self.inputs[\"attention_mask\"] = attention_mask\n",
        "\n",
        "        self.targets = (self.start_tok_idx, self.end_tok_idx)  \n",
        "        self.context_token_to_char = tokenized_context.offsets            "
      ],
      "execution_count": null,
      "outputs": []
    },
    {
      "cell_type": "code",
      "metadata": {
        "id": "Yq4Zqwfrsrsf"
      },
      "source": [
        "def create_squad_examples(raw_data):\n",
        "\n",
        "    def gen():        \n",
        "        for item in raw_data[\"data\"]:\n",
        "            for para in item[\"paragraphs\"]:\n",
        "                context = para[\"context\"]\n",
        "                for qa in para[\"qas\"]:\n",
        "                    question = qa[\"question\"]\n",
        "                    if \"answers\" in qa:\n",
        "                        answer_text = qa[\"answers\"][0][\"text\"]\n",
        "                        all_answers = [_[\"text\"] for _ in qa[\"answers\"]]\n",
        "                        start_char_idx = qa[\"answers\"][0][\"answer_start\"]\n",
        "                        squad_eg = Sample(question, context, start_char_idx, answer_text, all_answers)\n",
        "                    else:\n",
        "                        squad_eg = Sample(question, context)\n",
        "                    squad_eg.preprocess()\n",
        "                    if squad_eg.skip == False:\n",
        "                        yield (squad_eg.inputs, squad_eg.targets)\n",
        "                    \n",
        "    return gen"
      ],
      "execution_count": null,
      "outputs": []
    },
    {
      "cell_type": "code",
      "metadata": {
        "id": "SKLmb5XFubEs"
      },
      "source": [
        "class DataLoader:\n",
        "    def __init__(self,data_path):\n",
        "        with open(data_path, \"r\") as f:\n",
        "            self.raw_data = json.load(f)\n",
        "        self.datagen = create_squad_examples(self.raw_data)\n",
        "\n",
        "    def get_data(self, shuffle=False, batch_size=32, buffer_size=2000):\n",
        "        dataset = tf.data.Dataset.from_generator(self.datagen, output_types=(\n",
        "            {\"input_ids\": tf.int32, \"token_type_ids\": tf.int32, \"attention_mask\": tf.int32},\n",
        "            (tf.int32, tf.int32)))\n",
        "        \n",
        "        if shuffle:\n",
        "            dataset = dataset.shuffle(buffer_size)\n",
        "        dataset = dataset.batch(batch_size,drop_remainder=True)\n",
        "        dataset = dataset.prefetch(tf.data.experimental.AUTOTUNE)\n",
        "        return dataset"
      ],
      "execution_count": null,
      "outputs": []
    },
    {
      "cell_type": "code",
      "metadata": {
        "id": "-53C2UDO5k6f"
      },
      "source": [
        "train_dataloader = DataLoader(\"Datasets/SQUAD-Train.json\")\n",
        "val_dataloader = DataLoader(\"Datasets/SQUAD-Dev.json\")"
      ],
      "execution_count": null,
      "outputs": []
    },
    {
      "cell_type": "code",
      "metadata": {
        "id": "ItaKWz9p5zfd"
      },
      "source": [
        "train_data = train_dataloader.get_data(shuffle=True, batch_size=16)\n",
        "val_data = val_dataloader.get_data(shuffle=False, batch_size=16)"
      ],
      "execution_count": null,
      "outputs": []
    },
    {
      "cell_type": "code",
      "metadata": {
        "colab": {
          "base_uri": "https://localhost:8080/"
        },
        "id": "ZEE_z0THJ7GN",
        "outputId": "9ca93888-fdcb-4c03-c11c-619f07629630"
      },
      "source": [
        "for i,j in train_data.take(1):\n",
        "    print(i)\n",
        "    #print(j)"
      ],
      "execution_count": null,
      "outputs": [
        {
          "output_type": "stream",
          "text": [
            "{'input_ids': <tf.Tensor: shape=(16, 384), dtype=int32, numpy=\n",
            "array([[  101, 20773,  1005, ...,     0,     0,     0],\n",
            "       [  101,  1999,  4883, ...,     0,     0,     0],\n",
            "       [  101, 10266,  2090, ...,     0,     0,     0],\n",
            "       ...,\n",
            "       [  101, 20773,  2038, ...,     0,     0,     0],\n",
            "       [  101,  7524,  2000, ...,     0,     0,     0],\n",
            "       [  101, 25479,  1005, ...,     0,     0,     0]], dtype=int32)>, 'token_type_ids': <tf.Tensor: shape=(16, 384), dtype=int32, numpy=\n",
            "array([[0, 0, 0, ..., 0, 0, 0],\n",
            "       [0, 0, 0, ..., 0, 0, 0],\n",
            "       [0, 0, 0, ..., 0, 0, 0],\n",
            "       ...,\n",
            "       [0, 0, 0, ..., 0, 0, 0],\n",
            "       [0, 0, 0, ..., 0, 0, 0],\n",
            "       [0, 0, 0, ..., 0, 0, 0]], dtype=int32)>, 'attention_mask': <tf.Tensor: shape=(16, 384), dtype=int32, numpy=\n",
            "array([[1, 1, 1, ..., 0, 0, 0],\n",
            "       [1, 1, 1, ..., 0, 0, 0],\n",
            "       [1, 1, 1, ..., 0, 0, 0],\n",
            "       ...,\n",
            "       [1, 1, 1, ..., 0, 0, 0],\n",
            "       [1, 1, 1, ..., 0, 0, 0],\n",
            "       [1, 1, 1, ..., 0, 0, 0]], dtype=int32)>}\n"
          ],
          "name": "stdout"
        }
      ]
    },
    {
      "cell_type": "code",
      "metadata": {
        "colab": {
          "base_uri": "https://localhost:8080/"
        },
        "id": "Qsl8I-_254SI",
        "outputId": "549a5902-5ee4-4ae6-a98b-4879861ebc69"
      },
      "source": [
        "train_data.element_spec"
      ],
      "execution_count": null,
      "outputs": [
        {
          "output_type": "execute_result",
          "data": {
            "text/plain": [
              "({'attention_mask': TensorSpec(shape=<unknown>, dtype=tf.int32, name=None),\n",
              "  'input_ids': TensorSpec(shape=<unknown>, dtype=tf.int32, name=None),\n",
              "  'token_type_ids': TensorSpec(shape=<unknown>, dtype=tf.int32, name=None)},\n",
              " (TensorSpec(shape=<unknown>, dtype=tf.int32, name=None),\n",
              "  TensorSpec(shape=<unknown>, dtype=tf.int32, name=None)))"
            ]
          },
          "metadata": {
            "tags": []
          },
          "execution_count": 81
        }
      ]
    },
    {
      "cell_type": "code",
      "metadata": {
        "id": "wdZ-ZOj39yyn"
      },
      "source": [
        "def create_model():\n",
        "    input_ids = tf.keras.layers.Input(shape=(max_seq_len,), dtype=tf.int32,\n",
        "                                       name=\"input_word_ids\")\n",
        "    attention_mask = tf.keras.layers.Input(shape=(max_seq_len,), dtype=tf.int32,\n",
        "                                    name=\"input_mask\")\n",
        "    token_type_ids = tf.keras.layers.Input(shape=(max_seq_len,), dtype=tf.int32,\n",
        "                                        name=\"input_type_ids\")\n",
        "    \n",
        "    pooled_output, sequence_output = Bert_Layer([input_ids, attention_mask, token_type_ids])\n",
        "\n",
        "    start_logits = tf.keras.layers.Dense(1, name=\"start_logit\", use_bias=False)(sequence_output)\n",
        "    start_logits = tf.keras.layers.Flatten()(start_logits)\n",
        "    end_logits = tf.keras.layers.Dense(1, name=\"end_logit\", use_bias=False)(sequence_output)\n",
        "    end_logits = tf.keras.layers.Flatten()(end_logits)\n",
        "    start_probs = tf.keras.layers.Activation(tf.keras.activations.softmax)(start_logits)\n",
        "    end_probs = tf.keras.layers.Activation(tf.keras.activations.softmax)(end_logits)\n",
        "\n",
        "    model = tf.keras.Model(inputs={\n",
        "        \"input_ids\": input_ids,\n",
        "        \"attention_mask\": attention_mask,\n",
        "        \"token_type_ids\": token_type_ids\n",
        "    },\n",
        "    outputs=(start_probs, end_probs))\n",
        "    return model"
      ],
      "execution_count": null,
      "outputs": []
    },
    {
      "cell_type": "code",
      "metadata": {
        "colab": {
          "base_uri": "https://localhost:8080/"
        },
        "id": "e9wOvQzedl6S",
        "outputId": "ba706741-ca81-46a9-d068-7355e6adc5c5"
      },
      "source": [
        "model=create_model()\n",
        "model.summary()"
      ],
      "execution_count": null,
      "outputs": [
        {
          "output_type": "stream",
          "text": [
            "Model: \"model\"\n",
            "__________________________________________________________________________________________________\n",
            "Layer (type)                    Output Shape         Param #     Connected to                     \n",
            "==================================================================================================\n",
            "input_word_ids (InputLayer)     [(None, 384)]        0                                            \n",
            "__________________________________________________________________________________________________\n",
            "input_mask (InputLayer)         [(None, 384)]        0                                            \n",
            "__________________________________________________________________________________________________\n",
            "input_type_ids (InputLayer)     [(None, 384)]        0                                            \n",
            "__________________________________________________________________________________________________\n",
            "keras_layer (KerasLayer)        [(None, 768), (None, 109482241   input_word_ids[0][0]             \n",
            "                                                                 input_mask[0][0]                 \n",
            "                                                                 input_type_ids[0][0]             \n",
            "__________________________________________________________________________________________________\n",
            "start_logit (Dense)             (None, 384, 1)       768         keras_layer[0][1]                \n",
            "__________________________________________________________________________________________________\n",
            "end_logit (Dense)               (None, 384, 1)       768         keras_layer[0][1]                \n",
            "__________________________________________________________________________________________________\n",
            "flatten (Flatten)               (None, 384)          0           start_logit[0][0]                \n",
            "__________________________________________________________________________________________________\n",
            "flatten_1 (Flatten)             (None, 384)          0           end_logit[0][0]                  \n",
            "__________________________________________________________________________________________________\n",
            "activation (Activation)         (None, 384)          0           flatten[0][0]                    \n",
            "__________________________________________________________________________________________________\n",
            "activation_1 (Activation)       (None, 384)          0           flatten_1[0][0]                  \n",
            "==================================================================================================\n",
            "Total params: 109,483,777\n",
            "Trainable params: 109,483,776\n",
            "Non-trainable params: 1\n",
            "__________________________________________________________________________________________________\n"
          ],
          "name": "stdout"
        }
      ]
    },
    {
      "cell_type": "code",
      "metadata": {
        "colab": {
          "base_uri": "https://localhost:8080/",
          "height": 426
        },
        "id": "rgLOHSI6XI_L",
        "outputId": "b3225365-b127-4a26-cce9-55a6dd2a4860"
      },
      "source": [
        "tf.keras.utils.plot_model(model=model, show_shapes=True,dpi=76)"
      ],
      "execution_count": null,
      "outputs": [
        {
          "output_type": "execute_result",
          "data": {
            "image/png": "[encoded data removed]",
            "text/plain": [
              "<IPython.core.display.Image object>"
            ]
          },
          "metadata": {
            "tags": []
          },
          "execution_count": 14
        }
      ]
    },
    {
      "cell_type": "code",
      "metadata": {
        "id": "6GnNcCyVXSxC"
      },
      "source": [
        "loss = tf.keras.losses.SparseCategoricalCrossentropy(from_logits=False)\n",
        "optimizer = tf.keras.optimizers.Adam(lr=1e-5, beta_1=0.9, beta_2=0.98, epsilon=1e-9)\n",
        "model.compile(optimizer=optimizer, loss=[loss, loss])"
      ],
      "execution_count": null,
      "outputs": []
    },
    {
      "cell_type": "code",
      "metadata": {
        "colab": {
          "base_uri": "https://localhost:8080/"
        },
        "id": "Lu0_TnHFX4al",
        "outputId": "45ea9265-b7b7-48e5-a6be-f6be0371bcf3"
      },
      "source": [
        "EPOCHS = 2\n",
        "history = model.fit(\n",
        "    train_data, validation_data = val_data,\n",
        "    epochs=EPOCHS,\n",
        "    verbose = 1\n",
        ")"
      ],
      "execution_count": null,
      "outputs": [
        {
          "output_type": "stream",
          "text": [
            "Epoch 1/2\n",
            "   4402/Unknown - 3439s 778ms/step - loss: 3.8569 - activation_18_loss: 1.9542 - activation_19_loss: 1.9028"
          ],
          "name": "stdout"
        }
      ]
    },
    {
      "cell_type": "code",
      "metadata": {
        "id": "-sQtGZmDheLI"
      },
      "source": [
        "model.load_weights('Artefacts/model.h5')"
      ],
      "execution_count": null,
      "outputs": []
    },
    {
      "cell_type": "code",
      "metadata": {
        "id": "7HxVU2BghvFS"
      },
      "source": [
        "raw_data1 = {\"data\":\n",
        "[\n",
        "{\"title\": \"Project Apollo\",\n",
        "\"paragraphs\": [\n",
        "{\n",
        "\"context\": \"The Apollo program, also known as Project Apollo, was the third United States human \"\n",
        "\"spaceflight program carried out by the National Aeronautics and Space Administration (\"\n",
        "\"NASA), which accomplished landing the first humans on the Moon from 1969 to 1972. First \"\n",
        "\"conceived during Dwight D. Eisenhower's administration as a three-man spacecraft to \"\n",
        "\"follow the one-man Project Mercury which put the first Americans in space, Apollo was \"\n",
        "\"later dedicated to President John F. Kennedy's national goal of landing a man on the \"\n",
        "\"Moon and returning him safely to the Earth by the end of the 1960s, which he proposed in \"\n",
        "\"a May 25, 1961, address to Congress. Project Mercury was followed by the two-man Project \"\n",
        "\"Gemini. The first manned flight of Apollo was in 1968. Apollo ran from 1961 to 1972, \"\n",
        "\"and was supported by the two man Gemini program which ran concurrently with it from 1962 \"\n",
        "\"to 1966. Gemini missions developed some of the space travel techniques that were \"\n",
        "\"necessary for the success of the Apollo missions. Apollo used Saturn family rockets as \"\n",
        "\"launch vehicles. Apollo/Saturn vehicles were also used for an Apollo Applications \"\n",
        "\"Program, which consisted of Skylab, a space station that supported three manned missions \"\n",
        "\"in 1973-74, and the Apollo-Soyuz Test Project, a joint Earth orbit mission with the \"\n",
        "\"Soviet Union in 1975.\",\n",
        "\"qas\": [\n",
        "{\"question\": \"What project put the first Americans into space?\",\n",
        "\"id\": \"Q1\"\n",
        "},\n",
        "{\"question\": \"What program was created to carry out these projects and missions?\",\n",
        "\"id\": \"Q2\"\n",
        "},\n",
        "{\"question\": \"What year did the first manned Apollo flight occur?\",\n",
        "\"id\": \"Q3\"\n",
        "},\n",
        "{\"question\": \"What President is credited with the original notion of putting Americans in space?\",\n",
        "\"id\": \"Q4\"\n",
        "},\n",
        "{\"question\": \"Who did the U.S. collaborate with on an Earth orbit mission in 1975?\",\n",
        "\"id\": \"Q5\"\n",
        "},\n",
        "{\"question\": \"How long did Project Apollo run?\",\n",
        "\"id\": \"Q6\"\n",
        "},\n",
        "{\"question\": \"What program helped develop space travel techniques that Project Apollo used?\",\n",
        "\"id\": \"Q7\"\n",
        "},\n",
        "{\"question\": \"What space station supported three manned missions in 1973-1974?\",\n",
        "\"id\": \"Q8\"\n",
        "}\n",
        "]}]}]}"
      ],
      "execution_count": null,
      "outputs": []
    },
    {
      "cell_type": "code",
      "metadata": {
        "id": "-_tZhLuD-1pd"
      },
      "source": [
        "raw_data = {\"data\":\n",
        "[\n",
        "{\"title\": \"Project Apollo\",\n",
        "\"paragraphs\": [\n",
        "{\n",
        "\"context\": \"My name is Swapnadeep Sarkar. I'm a NLP enthusiast\"\n",
        " \"I was born on 11th March, 1998. I live in India\"\n",
        " \"BERT stands for Bidirectional Encoder Representations For Text\",\n",
        "\"qas\": [\n",
        "{\"question\": \"What does BERT stand for?\",\n",
        "\"id\": \"Q1\"\n",
        "}\n",
        "]}]}]}"
      ],
      "execution_count": null,
      "outputs": []
    },
    {
      "cell_type": "code",
      "metadata": {
        "id": "_ZUbn7hk0nRn"
      },
      "source": [
        "def create_squad_tests(raw_data):\n",
        "    inputs=0\n",
        "           \n",
        "    for item in raw_data[\"data\"]:\n",
        "        for para in item[\"paragraphs\"]:\n",
        "            context = para[\"context\"]\n",
        "            for qa in para[\"qas\"]:\n",
        "                question = qa[\"question\"]\n",
        "                if \"answers\" in qa:\n",
        "                    answer_text = qa[\"answers\"][0][\"text\"]\n",
        "                    all_answers = [_[\"text\"] for _ in qa[\"answers\"]]\n",
        "                    start_char_idx = qa[\"answers\"][0][\"answer_start\"]\n",
        "                    squad_eg = Sample(question, context, start_char_idx, answer_text, all_answers)\n",
        "                else:\n",
        "                    squad_eg = Sample(question, context)\n",
        "                squad_eg.preprocess()\n",
        "                if squad_eg.skip == False:\n",
        "                    inputs=squad_eg.inputs\n",
        "\n",
        "    inputs[\"input_ids\"]=tf.expand_dims(inputs[\"input_ids\"], axis=0)\n",
        "    inputs[\"attention_mask\"] = tf.expand_dims(inputs[\"attention_mask\"], axis=0)\n",
        "    inputs[\"token_type_ids\"] = tf.expand_dims(inputs[\"token_type_ids\"], axis=0)\n",
        "    return inputs, squad_eg.context_token_to_char, squad_eg.context, squad_eg.question\n",
        "                    \n",
        " "
      ],
      "execution_count": null,
      "outputs": []
    },
    {
      "cell_type": "code",
      "metadata": {
        "id": "n6YlxS_Dit_s"
      },
      "source": [
        "test_data, context_token_to_char, context, question = create_squad_tests(raw_data)"
      ],
      "execution_count": null,
      "outputs": []
    },
    {
      "cell_type": "code",
      "metadata": {
        "id": "Gu2538OImO0Z"
      },
      "source": [
        "pred_start,pred_end = model.predict(test_data)"
      ],
      "execution_count": null,
      "outputs": []
    },
    {
      "cell_type": "code",
      "metadata": {
        "id": "9NBkhPfQ9z4K"
      },
      "source": [
        "import numpy as np\n"
      ],
      "execution_count": null,
      "outputs": []
    },
    {
      "cell_type": "code",
      "metadata": {
        "id": "YnyHXZvkmRVk",
        "colab": {
          "base_uri": "https://localhost:8080/"
        },
        "outputId": "4fb12226-83ad-4d33-ef4b-73ccd54da54d"
      },
      "source": [
        "for (start, end) in zip(pred_start, pred_end):\n",
        "    \n",
        "    offsets = context_token_to_char\n",
        "    start = np.argmax(start)\n",
        "    end = np.argmax(end)\n",
        "    pred_ans = None\n",
        "    if start >= len(offsets):\n",
        "        continue\n",
        "    pred_char_start = offsets[start][0]\n",
        "    if end < len(offsets):\n",
        "        pred_ans = context[pred_char_start:offsets[end][1]]\n",
        "    else:\n",
        "        pred_ans = context[pred_char_start:]\n",
        "    \n",
        "    print(\"Q: \" + question)\n",
        "    print(\"A: \" + pred_ans)"
      ],
      "execution_count": null,
      "outputs": [
        {
          "output_type": "stream",
          "text": [
            "Q: What does BERT stand for?\n",
            "A: Bidirectional Encoder Representations\n"
          ],
          "name": "stdout"
        }
      ]
    }
  ]
}